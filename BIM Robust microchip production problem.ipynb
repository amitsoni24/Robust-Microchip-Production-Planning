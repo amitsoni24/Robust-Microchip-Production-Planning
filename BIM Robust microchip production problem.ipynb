{
  "cells": [
    {
      "cell_type": "markdown",
      "metadata": {
        "id": "TP7ReUS8K3iE"
      },
      "source": [
        "# Robust BIM microchip production problem"
      ]
    },
    {
      "cell_type": "code",
      "execution_count": 1,
      "metadata": {
        "id": "69kabDUFLFPt",
        "outputId": "79df42cb-4ea4-46fb-be2d-ebfceb0dc262",
        "colab": {
          "base_uri": "https://localhost:8080/"
        }
      },
      "outputs": [
        {
          "output_type": "stream",
          "name": "stdout",
          "text": [
            "\u001b[?25l   \u001b[90m━━━━━━━━━━━━━━━━━━━━━━━━━━━━━━━━━━━━━━━━\u001b[0m \u001b[32m0.0/2.3 MB\u001b[0m \u001b[31m?\u001b[0m eta \u001b[36m-:--:--\u001b[0m\r\u001b[2K   \u001b[91m━━━━\u001b[0m\u001b[90m╺\u001b[0m\u001b[90m━━━━━━━━━━━━━━━━━━━━━━━━━━━━━━━━━━━\u001b[0m \u001b[32m0.2/2.3 MB\u001b[0m \u001b[31m6.9 MB/s\u001b[0m eta \u001b[36m0:00:01\u001b[0m\r\u001b[2K   \u001b[91m━━━━━━━━━━━━━━━━━━━━━━━━━━━━━━━━━━━━\u001b[0m\u001b[90m╺\u001b[0m\u001b[90m━━━\u001b[0m \u001b[32m2.1/2.3 MB\u001b[0m \u001b[31m29.5 MB/s\u001b[0m eta \u001b[36m0:00:01\u001b[0m\r\u001b[2K   \u001b[90m━━━━━━━━━━━━━━━━━━━━━━━━━━━━━━━━━━━━━━━━\u001b[0m \u001b[32m2.3/2.3 MB\u001b[0m \u001b[31m21.6 MB/s\u001b[0m eta \u001b[36m0:00:00\u001b[0m\n",
            "\u001b[?25hUsing default Community Edition License for Colab. Get yours at: https://ampl.com/ce\n",
            "Licensed to AMPL Community Edition License for the AMPL Model Colaboratory (https://ampl.com/colab).\n"
          ]
        }
      ],
      "source": [
        "# install dependencies and select solver\n",
        "%pip install -q amplpy numpy pandas matplotlib\n",
        "\n",
        "SOLVER_MILP = \"highs\"  # highs, scip, cbc, mosek, gurobi\n",
        "SOLVER_NLO = \"ipopt\"\n",
        "SOLVER_MINLO = \"bonmin\"  # mosek, scip, gurobi, knitro\n",
        "\n",
        "from amplpy import AMPL, ampl_notebook\n",
        "\n",
        "ampl = ampl_notebook(\n",
        "    modules=[\"coin\", \"highs\"],  # modules to install\n",
        "    license_uuid=\"default\",  # license to use\n",
        ")  # instantiate AMPL object and register notebook magics"
      ]
    },
    {
      "cell_type": "code",
      "execution_count": 2,
      "metadata": {
        "id": "PrIAH5pw8MZQ"
      },
      "outputs": [],
      "source": [
        "import numpy as np\n",
        "import matplotlib.pyplot as plt\n",
        "import matplotlib.patches as patches"
      ]
    },
    {
      "cell_type": "markdown",
      "metadata": {
        "id": "fDTCzz34K3iF"
      },
      "source": [
        "## Original BIM production planning model formulation\n",
        "\n",
        "$$\n",
        "\\begin{array}{rrcrcl}\n",
        "\\max    & 12x_1 & + & 9x_2               \\\\\n",
        "\\text{s.t.}    &   x_1 &   &      & \\leq & 1000 \\\\\n",
        "        &       &   &  x_2 & \\leq & 1500 \\\\\n",
        "        &   x_1 & + &  x_2 & \\leq & 1750 \\\\\n",
        "        &  4x_1 & + & 2x_2 & \\leq & 4800 \\\\\n",
        "        &   x_1 & , &  x_2 & \\geq & 0.\n",
        "\\end{array}\n",
        "$$"
      ]
    },
    {
      "cell_type": "code",
      "execution_count": 3,
      "metadata": {
        "id": "S1s44TNJ8MZT"
      },
      "outputs": [],
      "source": [
        "%%ampl_eval\n",
        "\n",
        "set CHIPS;\n",
        "\n",
        "param profits{CHIPS};\n",
        "param copper{CHIPS};\n",
        "\n",
        "var x{CHIPS} >= 0;\n",
        "\n",
        "maximize Profit: sum {c in CHIPS} profits[c] * x[c];\n",
        "\n",
        "s.t. Silicon: x['logic'] <= 1000;\n",
        "s.t. Germanium: x['memory'] <= 1500;\n",
        "s.t. Plastic: sum {c in CHIPS} x[c] <= 1750;\n",
        "s.t. Copper: sum {c in CHIPS} copper[c] * x[c] <= 4800;"
      ]
    },
    {
      "cell_type": "code",
      "execution_count": 4,
      "metadata": {
        "id": "Ez-i12QiK3iG",
        "outputId": "c333f1ef-d37d-42e2-fef2-2c6d2e416dd9",
        "colab": {
          "base_uri": "https://localhost:8080/"
        }
      },
      "outputs": [
        {
          "output_type": "stream",
          "name": "stdout",
          "text": [
            "HiGHS 1.11.0: \b\b\b\b\b\b\b\b\b\b\b\b\b\bHiGHS 1.11.0: optimal solution; objective 17700\n",
            "2 simplex iterations\n",
            "0 barrier iterations\n",
            "x = ({'logic': 650, 'memory': 1100})\n",
            "optimal value = 17700.00\n"
          ]
        }
      ],
      "source": [
        "chips = [\"logic\", \"memory\"]\n",
        "profits = {\"logic\": 12, \"memory\": 9}\n",
        "copper = {\"logic\": 4, \"memory\": 2}\n",
        "\n",
        "ampl.set[\"CHIPS\"] = chips\n",
        "ampl.param[\"profits\"] = profits\n",
        "ampl.param[\"copper\"] = copper\n",
        "\n",
        "ampl.option[\"solver\"] = SOLVER_MILP\n",
        "ampl.solve()\n",
        "\n",
        "x = ampl.get_variable(\"x\").to_dict()\n",
        "\n",
        "print(f\"x = ({x})\")\n",
        "print(f'optimal value = {ampl.obj[\"Profit\"].value():.2f}')"
      ]
    },
    {
      "cell_type": "code",
      "execution_count": 5,
      "metadata": {
        "id": "cv00HnWxK3iH",
        "outputId": "4c51f4ff-a599-4d80-d8bf-666d6f1f4cbf",
        "colab": {
          "base_uri": "https://localhost:8080/"
        }
      },
      "outputs": [
        {
          "output_type": "stream",
          "name": "stdout",
          "text": [
            "The dual variable corresponding to:\n",
            "\n",
            "- the constraint on Silicon is equal to  0\n",
            "- the constraint on Germanium is equal to  0\n",
            "- the constraint on Plastic is equal to  6\n",
            "- the constraint on Copper is equal to  3/2\n"
          ]
        }
      ],
      "source": [
        "def ShowDuals(ampl):\n",
        "    import fractions\n",
        "\n",
        "    # display all duals\n",
        "    print(\"The dual variable corresponding to:\\n\")\n",
        "    for name, con in ampl.get_constraints():\n",
        "        print(\n",
        "            \"- the constraint on\",\n",
        "            name,\n",
        "            \"is equal to \",\n",
        "            str(fractions.Fraction(con.dual())),\n",
        "        )\n",
        "\n",
        "\n",
        "ShowDuals(ampl)"
      ]
    },
    {
      "cell_type": "markdown",
      "metadata": {
        "id": "mlFIYk5KK3iH"
      },
      "source": [
        "## Robust BIM production planning models\n",
        "\n",
        "Suppose now that there is uncertainty affecting the microchip production at BIM. Specifically, the company notices that the amount of copper needed for the two types of microchips is not _exactly_ 4 and 2 gr, but varies due to some external factors affecting the production process. How does this uncertainty affect the optimal production plan?"
      ]
    },
    {
      "cell_type": "markdown",
      "metadata": {
        "id": "2l1u_HPD8MZZ"
      },
      "source": [
        "To get a feeling for what happens, let us first perform some simulations and data analysis on them. We start by simulating a sample of $n=2000$ observed copper consumption pairs for the production of `f` logic chips and `g` memory chips. The amounts vary around the original values, 4 gr and 2 gr, respectively, according to two independent lognormal distributions."
      ]
    },
    {
      "cell_type": "code",
      "execution_count": 6,
      "metadata": {
        "id": "5ppnDDbMK3iH",
        "outputId": "f34c7859-52c4-4e73-a835-c5e6510d9fae",
        "colab": {
          "base_uri": "https://localhost:8080/",
          "height": 457
        }
      },
      "outputs": [
        {
          "output_type": "display_data",
          "data": {
            "text/plain": [
              "<Figure size 640x480 with 1 Axes>"
            ],
            "image/png": "[encoded data removed]"
          },
          "metadata": {}
        }
      ],
      "source": [
        "plt.rcParams.update({\"font.size\": 12})\n",
        "\n",
        "seed = 0\n",
        "rng = np.random.default_rng(seed)\n",
        "n = 2000\n",
        "\n",
        "f = rng.lognormal(np.log(4.0), 0.005, n)\n",
        "g = rng.lognormal(np.log(2.0), 0.005, n)\n",
        "\n",
        "plt.figure()\n",
        "plt.plot(f, g, \".\")\n",
        "plt.xlabel(\"Copper gr needed for logic chips\")\n",
        "plt.ylabel(\"Copper gr needed for memory chips\")\n",
        "plt.show()"
      ]
    },
    {
      "cell_type": "markdown",
      "metadata": {
        "id": "MO6fztcFK3iI"
      },
      "source": [
        "### Box uncertainty for copper consumption\n",
        "\n",
        "A very simple and somehow naive uncertainty set can be the minimal box that contains all the simulated data."
      ]
    },
    {
      "cell_type": "code",
      "execution_count": 7,
      "metadata": {
        "colab": {
          "base_uri": "https://localhost:8080/",
          "height": 493
        },
        "id": "-YUKJpXWK3iI",
        "outputId": "c434c8b8-2231-45b4-ab6c-c0e36ca899a5"
      },
      "outputs": [
        {
          "output_type": "display_data",
          "data": {
            "text/plain": [
              "<Figure size 640x480 with 1 Axes>"
            ],
            "image/png": "[encoded data removed]"
          },
          "metadata": {}
        },
        {
          "output_type": "stream",
          "name": "stdout",
          "text": [
            "Lower bounds {'logic': np.float64(3.922766922829344), 'memory': np.float64(1.9701110863753781)}\n",
            "Upper bounds {'logic': np.float64(4.061793174956137), 'memory': np.float64(2.0328386701386703)}\n"
          ]
        }
      ],
      "source": [
        "plt.figure()\n",
        "plt.plot(f, g, \".\")\n",
        "currentAxis = plt.gca()\n",
        "currentAxis.add_patch(\n",
        "    patches.Rectangle(\n",
        "        (min(f), min(g)),\n",
        "        max(f) - min(f),\n",
        "        max(g) - min(g),\n",
        "        fill=False,\n",
        "        color=\"r\",\n",
        "    )\n",
        ")\n",
        "plt.xlabel(\"Copper gr needed for logic chips\")\n",
        "plt.ylabel(\"Copper gr needed for memory chips\")\n",
        "plt.show()\n",
        "\n",
        "# calculate the upper and lower bounds for each uncertain parameter\n",
        "lower = {\"logic\": min(f), \"memory\": min(g)}\n",
        "upper = {\"logic\": max(f), \"memory\": max(g)}\n",
        "print(\"Lower bounds\", lower)\n",
        "print(\"Upper bounds\", upper)"
      ]
    },
    {
      "cell_type": "markdown",
      "metadata": {
        "id": "x-r6VhudK3iI"
      },
      "source": [
        "Using this empirical box uncertainty set, we can consider the following robust variant of their optimization model:\n",
        "\n",
        "$$\n",
        "\\begin{array}{rrcrcl}\n",
        "\\max    &  12 x_1 & + &   9 x_2               \\\\\n",
        "\\text{s.t.}    &     x_1 &   &         & \\leq & 1000 \\\\\n",
        "        &         &   &     x_2 & \\leq & 1500 \\\\\n",
        "        &     x_1 & + &     x_2 & \\leq & 1750 \\\\\n",
        "        & z_1 x_1 & + & z_2 x_2 & \\leq & 4800 & \\forall \\ell \\leq a \\leq u \\\\\n",
        "        &     x_1 & , &     x_2 & \\geq & 0    \\\\\n",
        "\\end{array}\n",
        "$$\n",
        "\n",
        "The above model has an infinite number of constraints, one for every realization of the uncertain coefficients $z$. However, using linear duality, we can deal with this and obtain a robustified LP that we can solve."
      ]
    },
    {
      "cell_type": "markdown",
      "metadata": {
        "id": "LspYg_S18MZd"
      },
      "source": [
        "### Robust counterpart of box uncertainty\n",
        "\n",
        "The first thing to notice is that the copper consumption is modeled by constraints that are equivalent to bounding the following optimization problem:\n",
        "    \n",
        "$$\n",
        "\\begin{array}{rrr}\n",
        "\\max    & x_1 z_1 + x_2 z_2 & \\leq 4800 \\\\\n",
        "\\text{s.t.}    & \\ell \\leq z \\leq u\n",
        "\\end{array}\n",
        "$$\n",
        "\n",
        "or\n",
        "\n",
        "$$\n",
        "\\begin{array}{rrr}\n",
        "\\max    & x_1 z_1 + x_2 z_2 & \\leq 4800 \\\\\n",
        "\\text{s.t.}    & z \\leq u \\\\\n",
        "        & -z \\leq -\\ell.\n",
        "\\end{array}\n",
        "$$\n",
        "\n",
        "Now we use linear duality to realize that the above is equivalent to:\n",
        "\n",
        "$$\n",
        "\\begin{array}{rrr}\n",
        "\\min    & u y  - \\ell w & \\leq 4800 \\\\\n",
        "\\text{s.t.}    & y - w = x \\\\\n",
        "        & y \\geq 0, w \\geq 0\n",
        "\\end{array}\n",
        "$$\n",
        "    \n",
        "and the constraint imposed by the last problem is equivalent to:\n",
        "\n",
        "$$\n",
        "\\begin{array}{rrl}\n",
        "   & u y  - \\ell w & \\leq 4800 \\\\\n",
        "   & y - w & = x \\\\\n",
        "   & y \\geq 0, w \\geq 0\n",
        "\\end{array}\n",
        "$$\n",
        "\n",
        "The only thing we need to do is add the new auxiliary variables and constraints to the original model and implement them in AMPL."
      ]
    },
    {
      "cell_type": "code",
      "execution_count": 8,
      "metadata": {
        "id": "s0JquKgV8MZd",
        "outputId": "db0ed06e-6181-4dd8-ea0c-1cacb767aafb",
        "colab": {
          "base_uri": "https://localhost:8080/"
        }
      },
      "outputs": [
        {
          "output_type": "stream",
          "name": "stdout",
          "text": [
            "Writing BIM_robust_box.mod\n"
          ]
        }
      ],
      "source": [
        "%%writefile BIM_robust_box.mod\n",
        "\n",
        "set CHIPS;\n",
        "\n",
        "param profits{CHIPS};\n",
        "param copper{CHIPS};\n",
        "\n",
        "var x{CHIPS} >= 0, integer;\n",
        "\n",
        "maximize Profit: sum {c in CHIPS} profits[c] * x[c];\n",
        "\n",
        "s.t. Silicon: x['logic'] <= 1000;\n",
        "s.t. Germanium: x['memory'] <= 1500;\n",
        "s.t. Plastic: sum {c in CHIPS} x[c] <= 1750;\n",
        "\n",
        "param lower{CHIPS};\n",
        "param upper{CHIPS};\n",
        "\n",
        "var y{CHIPS} >= 0;\n",
        "var w{CHIPS} >= 0;\n",
        "\n",
        "s.t. RobustCopper:\n",
        "    sum {c in CHIPS} (upper[c]*y[c] - lower[c]*w[c]) <= 4800;\n",
        "s.t. PerVariable{c in CHIPS}:\n",
        "    x[c] == y[c] - w[c];\n"
      ]
    },
    {
      "cell_type": "code",
      "execution_count": 9,
      "metadata": {
        "id": "KdZk74bBK3iI",
        "outputId": "c2c3244e-4add-44a5-df3d-ebd9b1b8db62",
        "colab": {
          "base_uri": "https://localhost:8080/"
        }
      },
      "outputs": [
        {
          "output_type": "stream",
          "name": "stdout",
          "text": [
            "HiGHS 1.11.0: \b\b\b\b\b\b\b\b\b\b\b\b\b\bHiGHS 1.11.0: optimal solution; objective 17587.20087\n",
            "2 simplex iterations\n",
            "0 barrier iterations\n",
            "x = ({'logic': 612.4002900543649, 'memory': 1137.599709945635})\n",
            "optimal value = 17587.20\n"
          ]
        }
      ],
      "source": [
        "def BIMWithBoxUncertainty(lower, upper, int_x=False):\n",
        "    ampl = AMPL()\n",
        "    ampl.read(\"BIM_robust_box.mod\")\n",
        "\n",
        "    ampl.set[\"CHIPS\"] = chips\n",
        "    ampl.param[\"profits\"] = profits\n",
        "    ampl.param[\"copper\"] = copper\n",
        "\n",
        "    ampl.param[\"lower\"] = lower\n",
        "    ampl.param[\"upper\"] = upper\n",
        "\n",
        "    if not int_x:\n",
        "        ampl.eval(\"let {i in CHIPS} x[i].relax := 1;\")\n",
        "\n",
        "    ampl.solve(solver=SOLVER_MILP)\n",
        "    assert ampl.solve_result == \"solved\", ampl.solve_result\n",
        "\n",
        "    return ampl\n",
        "\n",
        "\n",
        "ampl = BIMWithBoxUncertainty(lower, upper)\n",
        "\n",
        "x = ampl.get_variable(\"x\").to_dict()\n",
        "print(f\"x = ({x})\")\n",
        "print(f'optimal value = {ampl.obj[\"Profit\"].value():.2f}')"
      ]
    },
    {
      "cell_type": "markdown",
      "metadata": {
        "id": "FKjtbzdb8MZf"
      },
      "source": [
        "We may want to impose the box uncertainty set to be symmetric with respect to the nominal values and just choose its width $\\delta$. This leads to a different optimal robust solution."
      ]
    },
    {
      "cell_type": "code",
      "execution_count": 10,
      "metadata": {
        "colab": {
          "base_uri": "https://localhost:8080/"
        },
        "id": "ZM3Ym0UkK3iI",
        "outputId": "52fa636a-ffad-412c-a1ce-dcd772ca33d9"
      },
      "outputs": [
        {
          "output_type": "stream",
          "name": "stdout",
          "text": [
            "HiGHS 1.11.0: \b\b\b\b\b\b\b\b\b\b\b\b\b\bHiGHS 1.11.0: optimal solution; objective 17568.75\n",
            "2 simplex iterations\n",
            "0 barrier iterations\n",
            "x = ({'logic': 606.2499999999999, 'memory': 1143.75})\n",
            "optimal value = 17568.75\n"
          ]
        }
      ],
      "source": [
        "# The parameter delta allows you to tune the amount of uncertainty.\n",
        "# In particular, if you take delta=0, you obtain the same result as the nominal model.\n",
        "delta = 0.05\n",
        "\n",
        "\n",
        "def BIMWithSymmetricalBoxUncertainty(delta, int_x=False):\n",
        "    lower = {chip: copper[chip] - delta for chip in chips}\n",
        "    upper = {chip: copper[chip] + delta for chip in chips}\n",
        "    return BIMWithBoxUncertainty(lower, upper, int_x)\n",
        "\n",
        "\n",
        "ampl = BIMWithSymmetricalBoxUncertainty(delta)\n",
        "\n",
        "x = ampl.get_variable(\"x\").to_dict()\n",
        "print(f\"x = ({x})\")\n",
        "print(f'optimal value = {ampl.obj[\"Profit\"].value():.2f}')"
      ]
    },
    {
      "cell_type": "markdown",
      "metadata": {
        "id": "h4IvEuocK3iJ"
      },
      "source": [
        "### Integer solution variant\n",
        "\n",
        "The original BIM model gave integer solutions, but not the robust version. If we need integer solutions then we should impose that to the nature of the variables, which in this case of _box uncertainty_ is easy to do since the model remains linear, although it will be mixed integer."
      ]
    },
    {
      "cell_type": "code",
      "execution_count": 11,
      "metadata": {
        "colab": {
          "base_uri": "https://localhost:8080/"
        },
        "id": "lhAQo89qK3iJ",
        "outputId": "1bc22f47-2e6e-422f-c41e-a775cf71a626"
      },
      "outputs": [
        {
          "output_type": "stream",
          "name": "stdout",
          "text": [
            "HiGHS 1.11.0: \b\b\b\b\b\b\b\b\b\b\b\b\b\bHiGHS 1.11.0: optimal solution; objective 17586\n",
            "3 simplex iterations\n",
            "1 branching nodes\n",
            "x = ({'logic': 612.0000000000001, 'memory': 1138})\n",
            "optimal value = 17586.00\n"
          ]
        }
      ],
      "source": [
        "ampl = BIMWithBoxUncertainty(lower, upper, True)\n",
        "\n",
        "x = ampl.get_variable(\"x\").to_dict()\n",
        "print(f\"x = ({x})\")\n",
        "print(f'optimal value = {ampl.obj[\"Profit\"].value():.2f}')"
      ]
    },
    {
      "cell_type": "markdown",
      "metadata": {
        "id": "yUZeJAfT8MZi"
      },
      "source": [
        "Let us see how the optimal solution behave as we vary the width of the box uncertainty set $\\delta$ from 0 to 0.5."
      ]
    },
    {
      "cell_type": "code",
      "execution_count": 12,
      "metadata": {
        "colab": {
          "base_uri": "https://localhost:8080/",
          "height": 1000
        },
        "id": "1aGhPp8XPz4G",
        "outputId": "f3e6c1c7-de57-41d1-f547-79a051794700"
      },
      "outputs": [
        {
          "output_type": "stream",
          "name": "stdout",
          "text": [
            "HiGHS 1.11.0: \b\b\b\b\b\b\b\b\b\b\b\b\b\bHiGHS 1.11.0: optimal solution; objective 17700\n",
            "2 simplex iterations\n",
            "1 branching nodes\n",
            "HiGHS 1.11.0: \b\b\b\b\b\b\b\b\b\b\b\b\b\bHiGHS 1.11.0: optimal solution; objective 17634\n",
            "3 simplex iterations\n",
            "1 branching nodes\n",
            "HiGHS 1.11.0: \b\b\b\b\b\b\b\b\b\b\b\b\b\bHiGHS 1.11.0: optimal solution; objective 17568\n",
            "3 simplex iterations\n",
            "1 branching nodes\n",
            "HiGHS 1.11.0: \b\b\b\b\b\b\b\b\b\b\b\b\b\bHiGHS 1.11.0: optimal solution; objective 17502\n",
            "3 simplex iterations\n",
            "1 branching nodes\n",
            "HiGHS 1.11.0: \b\b\b\b\b\b\b\b\b\b\b\b\b\bHiGHS 1.11.0: optimal solution; objective 17436\n",
            "3 simplex iterations\n",
            "1 branching nodes\n",
            "HiGHS 1.11.0: \b\b\b\b\b\b\b\b\b\b\b\b\b\bHiGHS 1.11.0: optimal solution; objective 17370\n",
            "3 simplex iterations\n",
            "1 branching nodes\n",
            "HiGHS 1.11.0: \b\b\b\b\b\b\b\b\b\b\b\b\b\bHiGHS 1.11.0: optimal solution; objective 17304\n",
            "3 simplex iterations\n",
            "1 branching nodes\n",
            "HiGHS 1.11.0: \b\b\b\b\b\b\b\b\b\b\b\b\b\bHiGHS 1.11.0: optimal solution; objective 17238\n",
            "3 simplex iterations\n",
            "1 branching nodes\n",
            "HiGHS 1.11.0: \b\b\b\b\b\b\b\b\b\b\b\b\b\bHiGHS 1.11.0: optimal solution; objective 17175\n",
            "2 simplex iterations\n",
            "1 branching nodes\n",
            "HiGHS 1.11.0: \b\b\b\b\b\b\b\b\b\b\b\b\b\bHiGHS 1.11.0: optimal solution; objective 17109\n",
            "3 simplex iterations\n",
            "1 branching nodes\n",
            "HiGHS 1.11.0: \b\b\b\b\b\b\b\b\b\b\b\b\b\bHiGHS 1.11.0: optimal solution; objective 17043\n",
            "3 simplex iterations\n",
            "1 branching nodes\n",
            "HiGHS 1.11.0: \b\b\b\b\b\b\b\b\b\b\b\b\b\bHiGHS 1.11.0: optimal solution; objective 16977\n",
            "3 simplex iterations\n",
            "1 branching nodes\n",
            "HiGHS 1.11.0: \b\b\b\b\b\b\b\b\b\b\b\b\b\bHiGHS 1.11.0: optimal solution; objective 16911\n",
            "3 simplex iterations\n",
            "1 branching nodes\n",
            "HiGHS 1.11.0: \b\b\b\b\b\b\b\b\b\b\b\b\b\bHiGHS 1.11.0: optimal solution; objective 16845\n",
            "3 simplex iterations\n",
            "1 branching nodes\n",
            "HiGHS 1.11.0: \b\b\b\b\b\b\b\b\b\b\b\b\b\bHiGHS 1.11.0: optimal solution; objective 16779\n",
            "3 simplex iterations\n",
            "1 branching nodes\n",
            "HiGHS 1.11.0: \b\b\b\b\b\b\b\b\b\b\b\b\b\bHiGHS 1.11.0: optimal solution; objective 16713\n",
            "3 simplex iterations\n",
            "1 branching nodes\n",
            "HiGHS 1.11.0: \b\b\b\b\b\b\b\b\b\b\b\b\b\bHiGHS 1.11.0: optimal solution; objective 16650\n",
            "2 simplex iterations\n",
            "1 branching nodes\n",
            "HiGHS 1.11.0: \b\b\b\b\b\b\b\b\b\b\b\b\b\bHiGHS 1.11.0: optimal solution; objective 16584\n",
            "3 simplex iterations\n",
            "1 branching nodes\n",
            "HiGHS 1.11.0: \b\b\b\b\b\b\b\b\b\b\b\b\b\bHiGHS 1.11.0: optimal solution; objective 16518\n",
            "3 simplex iterations\n",
            "1 branching nodes\n",
            "HiGHS 1.11.0: \b\b\b\b\b\b\b\b\b\b\b\b\b\bHiGHS 1.11.0: optimal solution; objective 16416\n",
            "3 simplex iterations\n",
            "1 branching nodes\n",
            "HiGHS 1.11.0: \b\b\b\b\b\b\b\b\b\b\b\b\b\bHiGHS 1.11.0: optimal solution; objective 16296\n",
            "1 simplex iterations\n",
            "1 branching nodes\n"
          ]
        },
        {
          "output_type": "execute_result",
          "data": {
            "text/plain": [
              "        profit  logic  memory\n",
              "0.000  17700.0  650.0  1100.0\n",
              "0.025  17634.0  628.0  1122.0\n",
              "0.050  17568.0  606.0  1144.0\n",
              "0.075  17502.0  584.0  1166.0\n",
              "0.100  17436.0  562.0  1188.0\n",
              "0.125  17370.0  540.0  1210.0\n",
              "0.150  17304.0  518.0  1232.0\n",
              "0.175  17238.0  496.0  1254.0\n",
              "0.200  17175.0  475.0  1275.0\n",
              "0.225  17109.0  453.0  1297.0\n",
              "0.250  17043.0  431.0  1319.0\n",
              "0.275  16977.0  409.0  1341.0\n",
              "0.300  16911.0  387.0  1363.0\n",
              "0.325  16845.0  365.0  1385.0\n",
              "0.350  16779.0  343.0  1407.0\n",
              "0.375  16713.0  321.0  1429.0\n",
              "0.400  16650.0  300.0  1450.0\n",
              "0.425  16584.0  278.0  1472.0\n",
              "0.450  16518.0  256.0  1494.0\n",
              "0.475  16416.0  243.0  1500.0\n",
              "0.500  16296.0  233.0  1500.0"
            ],
            "text/html": [
              "\n",
              "  <div id=\"df-302de9fe-a52b-40b8-85d2-8e4129f81a2b\" class=\"colab-df-container\">\n",
              "    <div>\n",
              "<style scoped>\n",
              "    .dataframe tbody tr th:only-of-type {\n",
              "        vertical-align: middle;\n",
              "    }\n",
              "\n",
              "    .dataframe tbody tr th {\n",
              "        vertical-align: top;\n",
              "    }\n",
              "\n",
              "    .dataframe thead th {\n",
              "        text-align: right;\n",
              "    }\n",
              "</style>\n",
              "<table border=\"1\" class=\"dataframe\">\n",
              "  <thead>\n",
              "    <tr style=\"text-align: right;\">\n",
              "      <th></th>\n",
              "      <th>profit</th>\n",
              "      <th>logic</th>\n",
              "      <th>memory</th>\n",
              "    </tr>\n",
              "  </thead>\n",
              "  <tbody>\n",
              "    <tr>\n",
              "      <th>0.000</th>\n",
              "      <td>17700.0</td>\n",
              "      <td>650.0</td>\n",
              "      <td>1100.0</td>\n",
              "    </tr>\n",
              "    <tr>\n",
              "      <th>0.025</th>\n",
              "      <td>17634.0</td>\n",
              "      <td>628.0</td>\n",
              "      <td>1122.0</td>\n",
              "    </tr>\n",
              "    <tr>\n",
              "      <th>0.050</th>\n",
              "      <td>17568.0</td>\n",
              "      <td>606.0</td>\n",
              "      <td>1144.0</td>\n",
              "    </tr>\n",
              "    <tr>\n",
              "      <th>0.075</th>\n",
              "      <td>17502.0</td>\n",
              "      <td>584.0</td>\n",
              "      <td>1166.0</td>\n",
              "    </tr>\n",
              "    <tr>\n",
              "      <th>0.100</th>\n",
              "      <td>17436.0</td>\n",
              "      <td>562.0</td>\n",
              "      <td>1188.0</td>\n",
              "    </tr>\n",
              "    <tr>\n",
              "      <th>0.125</th>\n",
              "      <td>17370.0</td>\n",
              "      <td>540.0</td>\n",
              "      <td>1210.0</td>\n",
              "    </tr>\n",
              "    <tr>\n",
              "      <th>0.150</th>\n",
              "      <td>17304.0</td>\n",
              "      <td>518.0</td>\n",
              "      <td>1232.0</td>\n",
              "    </tr>\n",
              "    <tr>\n",
              "      <th>0.175</th>\n",
              "      <td>17238.0</td>\n",
              "      <td>496.0</td>\n",
              "      <td>1254.0</td>\n",
              "    </tr>\n",
              "    <tr>\n",
              "      <th>0.200</th>\n",
              "      <td>17175.0</td>\n",
              "      <td>475.0</td>\n",
              "      <td>1275.0</td>\n",
              "    </tr>\n",
              "    <tr>\n",
              "      <th>0.225</th>\n",
              "      <td>17109.0</td>\n",
              "      <td>453.0</td>\n",
              "      <td>1297.0</td>\n",
              "    </tr>\n",
              "    <tr>\n",
              "      <th>0.250</th>\n",
              "      <td>17043.0</td>\n",
              "      <td>431.0</td>\n",
              "      <td>1319.0</td>\n",
              "    </tr>\n",
              "    <tr>\n",
              "      <th>0.275</th>\n",
              "      <td>16977.0</td>\n",
              "      <td>409.0</td>\n",
              "      <td>1341.0</td>\n",
              "    </tr>\n",
              "    <tr>\n",
              "      <th>0.300</th>\n",
              "      <td>16911.0</td>\n",
              "      <td>387.0</td>\n",
              "      <td>1363.0</td>\n",
              "    </tr>\n",
              "    <tr>\n",
              "      <th>0.325</th>\n",
              "      <td>16845.0</td>\n",
              "      <td>365.0</td>\n",
              "      <td>1385.0</td>\n",
              "    </tr>\n",
              "    <tr>\n",
              "      <th>0.350</th>\n",
              "      <td>16779.0</td>\n",
              "      <td>343.0</td>\n",
              "      <td>1407.0</td>\n",
              "    </tr>\n",
              "    <tr>\n",
              "      <th>0.375</th>\n",
              "      <td>16713.0</td>\n",
              "      <td>321.0</td>\n",
              "      <td>1429.0</td>\n",
              "    </tr>\n",
              "    <tr>\n",
              "      <th>0.400</th>\n",
              "      <td>16650.0</td>\n",
              "      <td>300.0</td>\n",
              "      <td>1450.0</td>\n",
              "    </tr>\n",
              "    <tr>\n",
              "      <th>0.425</th>\n",
              "      <td>16584.0</td>\n",
              "      <td>278.0</td>\n",
              "      <td>1472.0</td>\n",
              "    </tr>\n",
              "    <tr>\n",
              "      <th>0.450</th>\n",
              "      <td>16518.0</td>\n",
              "      <td>256.0</td>\n",
              "      <td>1494.0</td>\n",
              "    </tr>\n",
              "    <tr>\n",
              "      <th>0.475</th>\n",
              "      <td>16416.0</td>\n",
              "      <td>243.0</td>\n",
              "      <td>1500.0</td>\n",
              "    </tr>\n",
              "    <tr>\n",
              "      <th>0.500</th>\n",
              "      <td>16296.0</td>\n",
              "      <td>233.0</td>\n",
              "      <td>1500.0</td>\n",
              "    </tr>\n",
              "  </tbody>\n",
              "</table>\n",
              "</div>\n",
              "    <div class=\"colab-df-buttons\">\n",
              "\n",
              "  <div class=\"colab-df-container\">\n",
              "    <button class=\"colab-df-convert\" onclick=\"convertToInteractive('df-302de9fe-a52b-40b8-85d2-8e4129f81a2b')\"\n",
              "            title=\"Convert this dataframe to an interactive table.\"\n",
              "            style=\"display:none;\">\n",
              "\n",
              "  <svg xmlns=\"http://www.w3.org/2000/svg\" height=\"24px\" viewBox=\"0 -960 960 960\">\n",
              "    <path d=\"M120-120v-720h720v720H120Zm60-500h600v-160H180v160Zm220 220h160v-160H400v160Zm0 220h160v-160H400v160ZM180-400h160v-160H180v160Zm440 0h160v-160H620v160ZM180-180h160v-160H180v160Zm440 0h160v-160H620v160Z\"/>\n",
              "  </svg>\n",
              "    </button>\n",
              "\n",
              "  <style>\n",
              "    .colab-df-container {\n",
              "      display:flex;\n",
              "      gap: 12px;\n",
              "    }\n",
              "\n",
              "    .colab-df-convert {\n",
              "      background-color: #E8F0FE;\n",
              "      border: none;\n",
              "      border-radius: 50%;\n",
              "      cursor: pointer;\n",
              "      display: none;\n",
              "      fill: #1967D2;\n",
              "      height: 32px;\n",
              "      padding: 0 0 0 0;\n",
              "      width: 32px;\n",
              "    }\n",
              "\n",
              "    .colab-df-convert:hover {\n",
              "      background-color: #E2EBFA;\n",
              "      box-shadow: 0px 1px 2px rgba(60, 64, 67, 0.3), 0px 1px 3px 1px rgba(60, 64, 67, 0.15);\n",
              "      fill: #174EA6;\n",
              "    }\n",
              "\n",
              "    .colab-df-buttons div {\n",
              "      margin-bottom: 4px;\n",
              "    }\n",
              "\n",
              "    [theme=dark] .colab-df-convert {\n",
              "      background-color: #3B4455;\n",
              "      fill: #D2E3FC;\n",
              "    }\n",
              "\n",
              "    [theme=dark] .colab-df-convert:hover {\n",
              "      background-color: #434B5C;\n",
              "      box-shadow: 0px 1px 3px 1px rgba(0, 0, 0, 0.15);\n",
              "      filter: drop-shadow(0px 1px 2px rgba(0, 0, 0, 0.3));\n",
              "      fill: #FFFFFF;\n",
              "    }\n",
              "  </style>\n",
              "\n",
              "    <script>\n",
              "      const buttonEl =\n",
              "        document.querySelector('#df-302de9fe-a52b-40b8-85d2-8e4129f81a2b button.colab-df-convert');\n",
              "      buttonEl.style.display =\n",
              "        google.colab.kernel.accessAllowed ? 'block' : 'none';\n",
              "\n",
              "      async function convertToInteractive(key) {\n",
              "        const element = document.querySelector('#df-302de9fe-a52b-40b8-85d2-8e4129f81a2b');\n",
              "        const dataTable =\n",
              "          await google.colab.kernel.invokeFunction('convertToInteractive',\n",
              "                                                    [key], {});\n",
              "        if (!dataTable) return;\n",
              "\n",
              "        const docLinkHtml = 'Like what you see? Visit the ' +\n",
              "          '<a target=\"_blank\" href=https://colab.research.google.com/notebooks/data_table.ipynb>data table notebook</a>'\n",
              "          + ' to learn more about interactive tables.';\n",
              "        element.innerHTML = '';\n",
              "        dataTable['output_type'] = 'display_data';\n",
              "        await google.colab.output.renderOutput(dataTable, element);\n",
              "        const docLink = document.createElement('div');\n",
              "        docLink.innerHTML = docLinkHtml;\n",
              "        element.appendChild(docLink);\n",
              "      }\n",
              "    </script>\n",
              "  </div>\n",
              "\n",
              "\n",
              "    <div id=\"df-4bb8f79f-e956-4a99-9095-8159fe818efb\">\n",
              "      <button class=\"colab-df-quickchart\" onclick=\"quickchart('df-4bb8f79f-e956-4a99-9095-8159fe818efb')\"\n",
              "                title=\"Suggest charts\"\n",
              "                style=\"display:none;\">\n",
              "\n",
              "<svg xmlns=\"http://www.w3.org/2000/svg\" height=\"24px\"viewBox=\"0 0 24 24\"\n",
              "     width=\"24px\">\n",
              "    <g>\n",
              "        <path d=\"M19 3H5c-1.1 0-2 .9-2 2v14c0 1.1.9 2 2 2h14c1.1 0 2-.9 2-2V5c0-1.1-.9-2-2-2zM9 17H7v-7h2v7zm4 0h-2V7h2v10zm4 0h-2v-4h2v4z\"/>\n",
              "    </g>\n",
              "</svg>\n",
              "      </button>\n",
              "\n",
              "<style>\n",
              "  .colab-df-quickchart {\n",
              "      --bg-color: #E8F0FE;\n",
              "      --fill-color: #1967D2;\n",
              "      --hover-bg-color: #E2EBFA;\n",
              "      --hover-fill-color: #174EA6;\n",
              "      --disabled-fill-color: #AAA;\n",
              "      --disabled-bg-color: #DDD;\n",
              "  }\n",
              "\n",
              "  [theme=dark] .colab-df-quickchart {\n",
              "      --bg-color: #3B4455;\n",
              "      --fill-color: #D2E3FC;\n",
              "      --hover-bg-color: #434B5C;\n",
              "      --hover-fill-color: #FFFFFF;\n",
              "      --disabled-bg-color: #3B4455;\n",
              "      --disabled-fill-color: #666;\n",
              "  }\n",
              "\n",
              "  .colab-df-quickchart {\n",
              "    background-color: var(--bg-color);\n",
              "    border: none;\n",
              "    border-radius: 50%;\n",
              "    cursor: pointer;\n",
              "    display: none;\n",
              "    fill: var(--fill-color);\n",
              "    height: 32px;\n",
              "    padding: 0;\n",
              "    width: 32px;\n",
              "  }\n",
              "\n",
              "  .colab-df-quickchart:hover {\n",
              "    background-color: var(--hover-bg-color);\n",
              "    box-shadow: 0 1px 2px rgba(60, 64, 67, 0.3), 0 1px 3px 1px rgba(60, 64, 67, 0.15);\n",
              "    fill: var(--button-hover-fill-color);\n",
              "  }\n",
              "\n",
              "  .colab-df-quickchart-complete:disabled,\n",
              "  .colab-df-quickchart-complete:disabled:hover {\n",
              "    background-color: var(--disabled-bg-color);\n",
              "    fill: var(--disabled-fill-color);\n",
              "    box-shadow: none;\n",
              "  }\n",
              "\n",
              "  .colab-df-spinner {\n",
              "    border: 2px solid var(--fill-color);\n",
              "    border-color: transparent;\n",
              "    border-bottom-color: var(--fill-color);\n",
              "    animation:\n",
              "      spin 1s steps(1) infinite;\n",
              "  }\n",
              "\n",
              "  @keyframes spin {\n",
              "    0% {\n",
              "      border-color: transparent;\n",
              "      border-bottom-color: var(--fill-color);\n",
              "      border-left-color: var(--fill-color);\n",
              "    }\n",
              "    20% {\n",
              "      border-color: transparent;\n",
              "      border-left-color: var(--fill-color);\n",
              "      border-top-color: var(--fill-color);\n",
              "    }\n",
              "    30% {\n",
              "      border-color: transparent;\n",
              "      border-left-color: var(--fill-color);\n",
              "      border-top-color: var(--fill-color);\n",
              "      border-right-color: var(--fill-color);\n",
              "    }\n",
              "    40% {\n",
              "      border-color: transparent;\n",
              "      border-right-color: var(--fill-color);\n",
              "      border-top-color: var(--fill-color);\n",
              "    }\n",
              "    60% {\n",
              "      border-color: transparent;\n",
              "      border-right-color: var(--fill-color);\n",
              "    }\n",
              "    80% {\n",
              "      border-color: transparent;\n",
              "      border-right-color: var(--fill-color);\n",
              "      border-bottom-color: var(--fill-color);\n",
              "    }\n",
              "    90% {\n",
              "      border-color: transparent;\n",
              "      border-bottom-color: var(--fill-color);\n",
              "    }\n",
              "  }\n",
              "</style>\n",
              "\n",
              "      <script>\n",
              "        async function quickchart(key) {\n",
              "          const quickchartButtonEl =\n",
              "            document.querySelector('#' + key + ' button');\n",
              "          quickchartButtonEl.disabled = true;  // To prevent multiple clicks.\n",
              "          quickchartButtonEl.classList.add('colab-df-spinner');\n",
              "          try {\n",
              "            const charts = await google.colab.kernel.invokeFunction(\n",
              "                'suggestCharts', [key], {});\n",
              "          } catch (error) {\n",
              "            console.error('Error during call to suggestCharts:', error);\n",
              "          }\n",
              "          quickchartButtonEl.classList.remove('colab-df-spinner');\n",
              "          quickchartButtonEl.classList.add('colab-df-quickchart-complete');\n",
              "        }\n",
              "        (() => {\n",
              "          let quickchartButtonEl =\n",
              "            document.querySelector('#df-4bb8f79f-e956-4a99-9095-8159fe818efb button');\n",
              "          quickchartButtonEl.style.display =\n",
              "            google.colab.kernel.accessAllowed ? 'block' : 'none';\n",
              "        })();\n",
              "      </script>\n",
              "    </div>\n",
              "\n",
              "  <div id=\"id_a18cebec-0b36-49f2-b992-8f531a664fb3\">\n",
              "    <style>\n",
              "      .colab-df-generate {\n",
              "        background-color: #E8F0FE;\n",
              "        border: none;\n",
              "        border-radius: 50%;\n",
              "        cursor: pointer;\n",
              "        display: none;\n",
              "        fill: #1967D2;\n",
              "        height: 32px;\n",
              "        padding: 0 0 0 0;\n",
              "        width: 32px;\n",
              "      }\n",
              "\n",
              "      .colab-df-generate:hover {\n",
              "        background-color: #E2EBFA;\n",
              "        box-shadow: 0px 1px 2px rgba(60, 64, 67, 0.3), 0px 1px 3px 1px rgba(60, 64, 67, 0.15);\n",
              "        fill: #174EA6;\n",
              "      }\n",
              "\n",
              "      [theme=dark] .colab-df-generate {\n",
              "        background-color: #3B4455;\n",
              "        fill: #D2E3FC;\n",
              "      }\n",
              "\n",
              "      [theme=dark] .colab-df-generate:hover {\n",
              "        background-color: #434B5C;\n",
              "        box-shadow: 0px 1px 3px 1px rgba(0, 0, 0, 0.15);\n",
              "        filter: drop-shadow(0px 1px 2px rgba(0, 0, 0, 0.3));\n",
              "        fill: #FFFFFF;\n",
              "      }\n",
              "    </style>\n",
              "    <button class=\"colab-df-generate\" onclick=\"generateWithVariable('df')\"\n",
              "            title=\"Generate code using this dataframe.\"\n",
              "            style=\"display:none;\">\n",
              "\n",
              "  <svg xmlns=\"http://www.w3.org/2000/svg\" height=\"24px\"viewBox=\"0 0 24 24\"\n",
              "       width=\"24px\">\n",
              "    <path d=\"M7,19H8.4L18.45,9,17,7.55,7,17.6ZM5,21V16.75L18.45,3.32a2,2,0,0,1,2.83,0l1.4,1.43a1.91,1.91,0,0,1,.58,1.4,1.91,1.91,0,0,1-.58,1.4L9.25,21ZM18.45,9,17,7.55Zm-12,3A5.31,5.31,0,0,0,4.9,8.1,5.31,5.31,0,0,0,1,6.5,5.31,5.31,0,0,0,4.9,4.9,5.31,5.31,0,0,0,6.5,1,5.31,5.31,0,0,0,8.1,4.9,5.31,5.31,0,0,0,12,6.5,5.46,5.46,0,0,0,6.5,12Z\"/>\n",
              "  </svg>\n",
              "    </button>\n",
              "    <script>\n",
              "      (() => {\n",
              "      const buttonEl =\n",
              "        document.querySelector('#id_a18cebec-0b36-49f2-b992-8f531a664fb3 button.colab-df-generate');\n",
              "      buttonEl.style.display =\n",
              "        google.colab.kernel.accessAllowed ? 'block' : 'none';\n",
              "\n",
              "      buttonEl.onclick = () => {\n",
              "        google.colab.notebook.generateWithVariable('df');\n",
              "      }\n",
              "      })();\n",
              "    </script>\n",
              "  </div>\n",
              "\n",
              "    </div>\n",
              "  </div>\n"
            ],
            "application/vnd.google.colaboratory.intrinsic+json": {
              "type": "dataframe",
              "variable_name": "df",
              "summary": "{\n  \"name\": \"df\",\n  \"rows\": 21,\n  \"fields\": [\n    {\n      \"column\": \"profit\",\n      \"properties\": {\n        \"dtype\": \"number\",\n        \"std\": 417.5610819303652,\n        \"min\": 16296.0,\n        \"max\": 17700.0,\n        \"num_unique_values\": 21,\n        \"samples\": [\n          17700.0,\n          16584.0,\n          16713.0\n        ],\n        \"semantic_type\": \"\",\n        \"description\": \"\"\n      }\n    },\n    {\n      \"column\": \"logic\",\n      \"properties\": {\n        \"dtype\": \"number\",\n        \"std\": 133.48937892474544,\n        \"min\": 233.0,\n        \"max\": 650.0,\n        \"num_unique_values\": 21,\n        \"samples\": [\n          650.0,\n          278.0,\n          321.0\n        ],\n        \"semantic_type\": \"\",\n        \"description\": \"\"\n      }\n    },\n    {\n      \"column\": \"memory\",\n      \"properties\": {\n        \"dtype\": \"number\",\n        \"std\": 131.77123033066485,\n        \"min\": 1100.0,\n        \"max\": 1500.0,\n        \"num_unique_values\": 20,\n        \"samples\": [\n          1100.0,\n          1472.0,\n          1429.0\n        ],\n        \"semantic_type\": \"\",\n        \"description\": \"\"\n      }\n    }\n  ]\n}"
            }
          },
          "metadata": {},
          "execution_count": 12
        }
      ],
      "source": [
        "import pandas as pd\n",
        "\n",
        "df = pd.DataFrame()\n",
        "for delta in np.linspace(0, 0.5, 21):\n",
        "    ampl = BIMWithSymmetricalBoxUncertainty(delta, True)\n",
        "    x = ampl.get_variable(\"x\").to_dict()\n",
        "    results = [ampl.get_value(\"Profit\")] + [x[str(i)] for i in chips]\n",
        "    df.at[delta, \"profit\"] = results[0]\n",
        "    df.at[delta, chips[0]] = results[1]\n",
        "    df.at[delta, chips[1]] = results[2]\n",
        "df"
      ]
    },
    {
      "cell_type": "markdown",
      "metadata": {
        "id": "JyAKFroA8MZj"
      },
      "source": [
        "We can visualize how these quantities change as a function of $\\delta$:"
      ]
    },
    {
      "cell_type": "code",
      "execution_count": 13,
      "metadata": {
        "colab": {
          "base_uri": "https://localhost:8080/",
          "height": 1000
        },
        "id": "LfUxfNz7UcIO",
        "outputId": "f1c7e773-375f-4420-fca8-bc0ece3843da"
      },
      "outputs": [
        {
          "output_type": "stream",
          "name": "stderr",
          "text": [
            "<>:3: SyntaxWarning: invalid escape sequence '\\d'\n",
            "<>:7: SyntaxWarning: invalid escape sequence '\\d'\n",
            "<>:3: SyntaxWarning: invalid escape sequence '\\d'\n",
            "<>:7: SyntaxWarning: invalid escape sequence '\\d'\n",
            "/tmp/ipython-input-3502858787.py:3: SyntaxWarning: invalid escape sequence '\\d'\n",
            "  plt.xlabel(\"Margin $\\delta$ of the uncertainty box\")\n",
            "/tmp/ipython-input-3502858787.py:7: SyntaxWarning: invalid escape sequence '\\d'\n",
            "  plt.xlabel(\"Margin $\\delta$ of the uncertainty box\")\n"
          ]
        },
        {
          "output_type": "display_data",
          "data": {
            "text/plain": [
              "<Figure size 640x480 with 1 Axes>"
            ],
            "image/png": "[encoded data removed]"
          },
          "metadata": {}
        },
        {
          "output_type": "display_data",
          "data": {
            "text/plain": [
              "<Figure size 640x480 with 1 Axes>"
            ],
            "image/png": "[encoded data removed]"
          },
          "metadata": {}
        }
      ],
      "source": [
        "df[[\"profit\"]].plot()\n",
        "plt.ylim([16001, 17999])\n",
        "plt.xlabel(\"Margin $\\delta$ of the uncertainty box\")\n",
        "plt.ylabel(\"Profit\")\n",
        "plt.show()\n",
        "df[[\"logic\", \"memory\"]].plot()\n",
        "plt.xlabel(\"Margin $\\delta$ of the uncertainty box\")\n",
        "plt.ylabel(\"Optimal number of produced chips\")\n",
        "plt.show()"
      ]
    },
    {
      "cell_type": "markdown",
      "metadata": {
        "id": "WNDlWBWFK3iJ"
      },
      "source": [
        "## Cardinality-constrained uncertainty set\n",
        "\n",
        "Let us now make different assumptions regarding the uncertainty related to the copper consumption. More specifically, we now assume that each uncertain coefficient $z_j$ may deviate by at most $\\pm \\delta$ from the nominal value $\\bar{z}_j$ but no more than $\\Gamma$ will actually deviate.\n",
        "\n",
        "$$\n",
        "\\begin{array}{rrcrcl}\n",
        "\\max    &  12 x_1 & + &   9 x_2               \\\\\n",
        "\\text{s.t.}    &     x_1 &   &         & \\leq & 1000 \\\\\n",
        "        &         &   &     x_2 & \\leq & 1500 \\\\\n",
        "        &     x_1 & + &     x_2 & \\leq & 1750 \\\\\n",
        "        & z_1 x_1 & + & z_2 x_2 & \\leq & 4800 & \\forall \\, y \\in \\mathbb{R}^2 \\,:\\, z_j=\\bar{z}_j+\\delta y_j, \\, \\|y\\|_\\infty \\leq 1, \\, \\|y\\|_1\\leq \\Gamma \\\\\n",
        "        &     x_1 & , &     x_2 & \\geq & 0    \\\\\n",
        "\\end{array}\n",
        "$$"
      ]
    },
    {
      "cell_type": "markdown",
      "metadata": {
        "id": "xW13CZ4f8MZk"
      },
      "source": [
        "### Robust counterpart of cardinality-constrained uncertainty\n",
        "Lagrange duality yields the following modification to the problem as equivalent to the robust model stated above:\n",
        "\n",
        "$$\n",
        "\\begin{array}{rrcrcrcrcrcrcl}\n",
        "\\max    &  12 x_1 & + &   9 x_2               \\\\\n",
        "\\text{s.t.}    &     x_1 &   &         & & & & & & & \\leq & 1000 \\\\\n",
        "        &         &   &     x_2 & & & & & & & \\leq & 1500 \\\\\n",
        "        &     x_1 & + &     x_2 & & & & & & & \\leq & 1750 \\\\\n",
        "        & \\bar{z}_1 x_1 & + & \\bar{z}_2 x_2 & + & \\lambda\\Gamma & + & t_1 & + & t_2 & \\leq & 4800 \\\\\n",
        "        &-\\delta x_1 &   &         & + & \\lambda & + & t_1 &   &     & \\geq & 0 \\\\\n",
        "        &         &   &-\\delta x_2 & + & \\lambda &   &     & + & t_2 & \\geq & 0 \\\\\n",
        "        &\\delta x_1 &   &         & + & \\lambda & + & t_1 &   &     & \\geq & 0 \\\\\n",
        "        &         &   &\\delta x_2 & + & \\lambda &   &     & + & t_2 & \\geq & 0 \\\\\n",
        "        &     x_1 & , &     x_2 & , & \\lambda & , & t_1 & , & t_2 & \\geq & 0    \\\\\n",
        "\\end{array}\n",
        "$$"
      ]
    },
    {
      "cell_type": "code",
      "execution_count": 14,
      "metadata": {
        "id": "8Oi90iBY8MZk",
        "outputId": "f9179f7b-bb70-4998-ec5f-8b121f527842",
        "colab": {
          "base_uri": "https://localhost:8080/"
        }
      },
      "outputs": [
        {
          "output_type": "stream",
          "name": "stdout",
          "text": [
            "Writing BIM_robust_cardinality.mod\n"
          ]
        }
      ],
      "source": [
        "%%writefile BIM_robust_cardinality.mod\n",
        "\n",
        "set CHIPS;\n",
        "\n",
        "param profits{CHIPS};\n",
        "param copper{CHIPS};\n",
        "\n",
        "var x{CHIPS} >= 0, integer;\n",
        "\n",
        "maximize Profit: sum {c in CHIPS} profits[c] * x[c];\n",
        "\n",
        "s.t. Silicon: x['logic'] <= 1000;\n",
        "s.t. Germanium: x['memory'] <= 1500;\n",
        "s.t. Plastic: sum {c in CHIPS} x[c] <= 1750;\n",
        "\n",
        "param Gamma;\n",
        "param delta;\n",
        "\n",
        "var t{CHIPS} >= 0;\n",
        "var lam >= 0;\n",
        "\n",
        "s.t. RobustCopper:\n",
        "    sum {c in CHIPS} copper[c] * x[c]\n",
        "        + Gamma * lam\n",
        "        + sum {c in CHIPS} t[c]\n",
        "        <= 4800;\n",
        "\n",
        "s.t. UpRule{c in CHIPS}:\n",
        "    t[c] >= delta * x[c] - lam;\n",
        "s.t. DownRule{c in CHIPS}:\n",
        "    t[c] >= -delta * x[c] - lam;\n"
      ]
    },
    {
      "cell_type": "code",
      "execution_count": 15,
      "metadata": {
        "id": "pi13XIN0K3iJ",
        "outputId": "44939fd4-bd60-4d9a-c4d5-8d9ae045f834",
        "colab": {
          "base_uri": "https://localhost:8080/"
        }
      },
      "outputs": [
        {
          "output_type": "stream",
          "name": "stdout",
          "text": [
            "HiGHS 1.11.0: \b\b\b\b\b\b\b\b\b\b\b\b\b\bHiGHS 1.11.0: optimal solution; objective 17673\n",
            "4 simplex iterations\n",
            "1 branching nodes\n",
            "x = ({'logic': 641, 'memory': 1109})\n",
            "optimal value = 17673.00\n"
          ]
        }
      ],
      "source": [
        "def BIMWithBudgetUncertainty(delta, gamma):\n",
        "    ampl = AMPL()\n",
        "    ampl.read(\"BIM_robust_cardinality.mod\")\n",
        "\n",
        "    ampl.set[\"CHIPS\"] = chips\n",
        "    ampl.param[\"profits\"] = profits\n",
        "    ampl.param[\"copper\"] = copper\n",
        "\n",
        "    ampl.param[\"delta\"] = delta\n",
        "    ampl.param[\"Gamma\"] = gamma\n",
        "\n",
        "    ampl.option[\"solver\"] = SOLVER_MILP\n",
        "    ampl.solve()\n",
        "\n",
        "    return ampl\n",
        "\n",
        "\n",
        "ampl = BIMWithBudgetUncertainty(0.01, 2)\n",
        "\n",
        "x = ampl.get_variable(\"x\").to_dict()\n",
        "print(f\"x = ({x})\")\n",
        "print(f'optimal value = {ampl.obj[\"Profit\"].value():.2f}')"
      ]
    },
    {
      "cell_type": "markdown",
      "metadata": {
        "id": "nnJFSGDV8MZm"
      },
      "source": [
        "### Adversarial approach for the budgeted uncertainty set\n",
        "\n",
        "Instead of adopting the approach of robust counterparts, we could also use the adversarial approach where we initially solve the problem for the nominal value of the data. Then, we iteratively search for scenarios that make the current solution violate the copper constraint, and pre-solve the problem to take this scenario into account. To do so, we need to slightly modify our problem formulation function to allow for many scenarios for the parameter $z$."
      ]
    },
    {
      "cell_type": "code",
      "execution_count": 16,
      "metadata": {
        "id": "8HNXoa7B8MZm",
        "outputId": "0aad1d50-52b5-4b38-dd54-a06c3ceaf08e",
        "colab": {
          "base_uri": "https://localhost:8080/"
        }
      },
      "outputs": [
        {
          "output_type": "stream",
          "name": "stdout",
          "text": [
            "Writing BIM_robust_cardinality_adversarial.mod\n"
          ]
        }
      ],
      "source": [
        "%%writefile BIM_robust_cardinality_adversarial.mod\n",
        "\n",
        "set CHIPS;\n",
        "\n",
        "param profits{CHIPS};\n",
        "param copper{CHIPS};\n",
        "\n",
        "var x{CHIPS} >= 0;\n",
        "\n",
        "maximize Profit: sum {c in CHIPS} profits[c] * x[c];\n",
        "\n",
        "s.t. Silicon: x['logic'] <= 1000;\n",
        "s.t. Germanium: x['memory'] <= 1500;\n",
        "s.t. Plastic: sum {c in CHIPS} x[c] <= 1750;\n",
        "\n",
        "set CUTS;\n",
        "\n",
        "param Z{CUTS, CHIPS};\n",
        "\n",
        "s.t. Balance{i in CUTS}:\n",
        "    sum {c in CHIPS}\n",
        "        copper[c] * x[c] * (1 + Z[i, c]) <= 4800;\n"
      ]
    },
    {
      "cell_type": "code",
      "execution_count": 17,
      "metadata": {
        "id": "osFcoIee8MZm"
      },
      "outputs": [],
      "source": [
        "def BIMWithSetOfScenarios(Z=[{\"logic\": 0, \"memory\": 0}]):\n",
        "    ampl = AMPL()\n",
        "    ampl.read(\"BIM_robust_cardinality_adversarial.mod\")\n",
        "\n",
        "    ampl.set[\"CHIPS\"] = chips\n",
        "    ampl.param[\"profits\"] = profits\n",
        "    ampl.param[\"copper\"] = copper\n",
        "\n",
        "    dfZ = pd.DataFrame(Z)\n",
        "    ampl.set[\"CUTS\"] = list(dfZ.index)\n",
        "    ampl.param[\"Z\"] = dfZ.T.unstack(1)\n",
        "\n",
        "    ampl.option[\"solver\"] = SOLVER_MILP\n",
        "    ampl.solve()\n",
        "\n",
        "    return ampl"
      ]
    },
    {
      "cell_type": "markdown",
      "metadata": {
        "id": "LbPRR6Gi8MZn"
      },
      "source": [
        "We also need a function that for a given solution finds the worst-possible realization of the uncertainty restricted by the parameters $\\Gamma$ and $\\delta$. In other words, its role is to solve the following maximization problem for a given solution $(\\bar{x}_1, \\bar{x}_2)$:\n",
        "\n",
        "$$\n",
        "\\begin{align*}\n",
        "\\max \\ & (\\bar{z}_1 + \\delta y_1) \\bar{x}_1 + (\\bar{z}_2 + \\delta y_2) \\bar{x}_2 - 4800 \\\\\n",
        "\\text{s.t.} \\ & |y_1| + |y_2| \\leq \\Gamma \\\\\n",
        "& -1 \\leq y_i \\leq 1 && i = 1, 2.\n",
        "\\end{align*}\n",
        "$$\n",
        "\n",
        "Such a function is implemented below and takes as argument also the maximum magnitude of the individual deviations $\\delta$ and the total budget $\\Gamma$."
      ]
    },
    {
      "cell_type": "code",
      "execution_count": 18,
      "metadata": {
        "id": "Jqn_vpjj8MZn",
        "outputId": "fd81b627-9060-486b-f1a9-5d194d76f36b",
        "colab": {
          "base_uri": "https://localhost:8080/"
        }
      },
      "outputs": [
        {
          "output_type": "stream",
          "name": "stdout",
          "text": [
            "Writing BIM_robust_cardinality_pessimizer.mod\n"
          ]
        }
      ],
      "source": [
        "%%writefile BIM_robust_cardinality_pessimizer.mod\n",
        "\n",
        "set CHIPS;\n",
        "param copper{CHIPS};\n",
        "\n",
        "var z{CHIPS};\n",
        "var u{CHIPS} >= 0;\n",
        "\n",
        "s.t. AbsValue1{i in CHIPS}:\n",
        "    z[i] <= u[i];\n",
        "\n",
        "s.t. AbsValue2{i in CHIPS}:\n",
        "    -z[i] <= u[i];\n",
        "\n",
        "s.t. AbsValueLE1{i in CHIPS}:\n",
        "    u[i] <= 1.0;\n",
        "\n",
        "param x{CHIPS};\n",
        "param Gamma;\n",
        "param delta;\n",
        "\n",
        "s.t. Budget:\n",
        "    sum {i in CHIPS} u[i] <= Gamma;\n",
        "\n",
        "maximize Violation:\n",
        "        -4800\n",
        "        + sum {c in CHIPS}\n",
        "            copper[c] * x[c] * (1 + delta * z[c]);\n"
      ]
    },
    {
      "cell_type": "code",
      "execution_count": 19,
      "metadata": {
        "id": "oOrJT2Y-8MZo"
      },
      "outputs": [],
      "source": [
        "def BIMPessimization(x, delta, gamma):\n",
        "    ampl = AMPL()\n",
        "    ampl.read(\"BIM_robust_cardinality_pessimizer.mod\")\n",
        "\n",
        "    ampl.set[\"CHIPS\"] = chips\n",
        "    ampl.param[\"copper\"] = copper\n",
        "\n",
        "    ampl.param[\"x\"] = x\n",
        "    ampl.param[\"Gamma\"] = gamma\n",
        "    ampl.param[\"delta\"] = delta\n",
        "\n",
        "    ampl.option[\"solver\"] = SOLVER_MILP\n",
        "    ampl.solve()\n",
        "\n",
        "    worst_z = ampl.get_variable(\"z\").to_dict()\n",
        "\n",
        "    return worst_z, ampl.get_value(\"Violation\")"
      ]
    },
    {
      "cell_type": "markdown",
      "metadata": {
        "id": "eh9T6nUf8MZo"
      },
      "source": [
        "We wrap the two functions above into a loop of the adversarial approach, which begins with a non-perturbation assumption and gradually generates violating scenarios, reoptimizing until the maximum constraint violation is below a tolerable threshold."
      ]
    },
    {
      "cell_type": "code",
      "execution_count": 20,
      "metadata": {
        "id": "4OkffOWW8MZp",
        "outputId": "21769446-b8b2-4318-d960-c2d73543d9ed",
        "colab": {
          "base_uri": "https://localhost:8080/"
        }
      },
      "outputs": [
        {
          "output_type": "stream",
          "name": "stdout",
          "text": [
            "HiGHS 1.11.0: \b\b\b\b\b\b\b\b\b\b\b\b\b\bHiGHS 1.11.0: optimal solution; objective 17700\n",
            "2 simplex iterations\n",
            "0 barrier iterations\n",
            "\n",
            "Iteration #0\n",
            "Current solution: \n",
            "x['logic']= 650.00\n",
            "x['memory']= 1100.00\n",
            "HiGHS 1.11.0: \b\b\b\b\b\b\b\b\b\b\b\b\b\bHiGHS 1.11.0: optimal solution; objective 740\n",
            "1 simplex iterations\n",
            "0 barrier iterations\n",
            "Violation found: z['logic'] = 1,  z['memory'] = 0.5, constraint violation: 740.00\n",
            "HiGHS 1.11.0: \b\b\b\b\b\b\b\b\b\b\b\b\b\bHiGHS 1.11.0: optimal solution; objective 13950\n",
            "1 simplex iterations\n",
            "0 barrier iterations\n",
            "\n",
            "Iteration #1\n",
            "Current solution: \n",
            "x['logic']= 37.50\n",
            "x['memory']= 1500.00\n",
            "HiGHS 1.11.0: \b\b\b\b\b\b\b\b\b\b\b\b\b\bHiGHS 1.11.0: optimal solution; objective -1035\n",
            "1 simplex iterations\n",
            "0 barrier iterations\n",
            "No violation found. Stopping the procedure.\n"
          ]
        }
      ],
      "source": [
        "# Parameters\n",
        "adversarial_converged = False\n",
        "stopping_precision = 0.1\n",
        "max_iterations = 5\n",
        "adversarial_iterations = 0\n",
        "delta = 0.2\n",
        "gamma = 1.5\n",
        "chips = [\"logic\", \"memory\"]\n",
        "\n",
        "# Initialize the null scenario - no perturbation\n",
        "Z = [{\"logic\": 0, \"memory\": 0}]\n",
        "\n",
        "while (not adversarial_converged) and (adversarial_iterations < max_iterations):\n",
        "    # Building and solving the master problem\n",
        "    ampl = BIMWithSetOfScenarios(Z)\n",
        "\n",
        "    # Saving the current solution\n",
        "    x = ampl.get_variable(\"x\").to_dict()\n",
        "\n",
        "    print(f\"\\nIteration #{adversarial_iterations}\")\n",
        "    print(f\"Current solution: \")\n",
        "    for c in chips:\n",
        "        print(f\"x['{c}']= {x[c]:.2f}\")\n",
        "\n",
        "    # Pessimization\n",
        "    worst_z, constraint_violation = BIMPessimization(x, delta, gamma)\n",
        "\n",
        "    # If pessimization yields no violation, stop the procedure, otherwise add a scenario and repeat\n",
        "    if constraint_violation < stopping_precision:\n",
        "        print(\"No violation found. Stopping the procedure.\")\n",
        "        adversarial_converged = True\n",
        "    else:\n",
        "        print(\n",
        "            f\"Violation found: z['logic'] = {worst_z['logic']},  z['memory'] = {worst_z['memory']}, \"\n",
        "            f\"constraint violation: {constraint_violation:6.2f}\"\n",
        "        )\n",
        "        Z.append(worst_z)\n",
        "\n",
        "    adversarial_iterations += 1"
      ]
    },
    {
      "cell_type": "markdown",
      "metadata": {
        "id": "C-Fb4VFW8MZp"
      },
      "source": [
        "It takes only two scenarios to be added to the baseline scenario to arrive at the solution which is essentially robust! For that reason, in many settings the adversarial approach is very viable. In fact, because the budgeted uncertainty set for two uncertain parameters has at most 8 vertices, we are guaranteed that it would never take more than 8 iterations to reach a fully robust solution (constraint violation of exactly $0$).\n",
        "\n",
        "This is not true, however, if the uncertainty set is not a polytope, but is, for example, an ellipsoid (ball) with infinitely many extreme points - it is expected that there will always be some minuscule constraint violation remaining after a certain number of iterations."
      ]
    },
    {
      "cell_type": "markdown",
      "metadata": {
        "id": "zC4DY1jP8MZq"
      },
      "source": [
        "We will now illustrate how to use conic optimization to solve the problem using robust counterparts for an ellipsoidal uncertainty set."
      ]
    },
    {
      "cell_type": "markdown",
      "metadata": {
        "id": "FeH2kXz6K3iJ"
      },
      "source": [
        "## Ball uncertainty set\n",
        "\n",
        "Let us now make yet another different assumption regarding the uncertainty related to copper consumption. More specifically, we assume that the two uncertain coefficients $z_1$ and $z_2$ can vary in a 2-dimensional ball centered around the point $(\\bar{z}_1,\\bar{z}_2) = (4,2)$ and with radius $r$.\n",
        "\n",
        "### Robust counterpart of ball uncertainty\n",
        "A straightforward reformulation leads to the equivalent constraint:\n",
        "\n",
        "$$\n",
        "  \\bar{z}_1x_1+\\bar{z}_2x_2 + r \\|x\\|_2 \\leq 4800\n",
        "$$\n",
        "\n",
        "By defining $y = 4800 - \\bar{z}_1x_1 - \\bar{z}_2x_2$ and $w = r x$, we may write:\n",
        "\n",
        "$$\n",
        "  \\|w\\|^2_2 \\leq y^2\n",
        "$$"
      ]
    },
    {
      "cell_type": "markdown",
      "metadata": {
        "id": "PdNL7TLNB18o"
      },
      "source": [
        "We now need to add this newly obtained conic constraint to the original BIM model. The optimization problem is nonlinear, but dedicated solvers can leverage the fact that it is conic and solve it efficiently. Specifically, `cplex`, `gurobi`, `xpress`, `copt`, and `mosek` support second-order cones. On the other hand, `ipopt` is a generic solver for nonlinear optimization problems.\n",
        "\n",
        "Note that $\\| x \\| \\leq t$ is for $t \\geq 0$ equivalent to $\\| x \\|^2 \\leq t^2$. A few commercial solvers (`gurobi`, `cplex`, `xpress`, and `copt`) auto-detect second-order cones from quadratic inequalities. AMPL Mosek driver [recognizes conic algebra in the model](https://amplmp.readthedocs.io/en/latest/rst/model-guide.html) and presents it to Mosek via its API. Note that the essential part to make the model convex is having the right-hand side nonnegative."
      ]
    },
    {
      "cell_type": "code",
      "execution_count": 21,
      "metadata": {
        "id": "3vgPEqDZ8MZ5",
        "outputId": "4576eb65-545a-4075-c381-45bebb35fd9a",
        "colab": {
          "base_uri": "https://localhost:8080/"
        }
      },
      "outputs": [
        {
          "output_type": "stream",
          "name": "stdout",
          "text": [
            "Writing BIM_robust_ball.mod\n"
          ]
        }
      ],
      "source": [
        "%%writefile BIM_robust_ball.mod\n",
        "\n",
        "set CHIPS;\n",
        "\n",
        "param profits{CHIPS};\n",
        "param copper{CHIPS};\n",
        "\n",
        "var x{CHIPS} >= 0;\n",
        "\n",
        "maximize Profit: sum {c in CHIPS} profits[c] * x[c];\n",
        "\n",
        "s.t. Silicon: x['logic'] <= 1000;\n",
        "s.t. Germanium: x['memory'] <= 1500;\n",
        "s.t. Plastic: sum {c in CHIPS} x[c] <= 1750;\n",
        "\n",
        "param radius;\n",
        "\n",
        "var y >= 0;\n",
        "var w{CHIPS} >= 0;\n",
        "\n",
        "s.t. Copper:\n",
        "    y == 4800 - sum {c in CHIPS} copper[c] * x[c];\n",
        "s.t. X2W{i in CHIPS}:\n",
        "    w[i] == radius * x[i];\n",
        "s.t. Robust:\n",
        "    y^2 >= sum {c in CHIPS} w[c]^2;\n"
      ]
    },
    {
      "cell_type": "code",
      "execution_count": 22,
      "metadata": {
        "id": "78e5iebf8MZ6"
      },
      "outputs": [],
      "source": [
        "def BIMWithBallUncertainty(radius, SOLVER, int_x=False):\n",
        "    ampl = AMPL()\n",
        "    ampl.read(\"BIM_robust_ball.mod\")\n",
        "    if int_x:\n",
        "        ampl.eval(\"redeclare var x{CHIPS} >= 0, integer;\")\n",
        "\n",
        "    ampl.set[\"CHIPS\"] = chips\n",
        "    ampl.param[\"profits\"] = profits\n",
        "    ampl.param[\"copper\"] = copper\n",
        "\n",
        "    ampl.param[\"radius\"] = radius\n",
        "\n",
        "    ampl.option[\"solver\"] = SOLVER\n",
        "    ampl.solve()\n",
        "\n",
        "    return ampl"
      ]
    },
    {
      "cell_type": "code",
      "execution_count": 23,
      "metadata": {
        "colab": {
          "base_uri": "https://localhost:8080/"
        },
        "id": "RB17G1AqK3iK",
        "outputId": "c0096816-f07f-43e7-9a1b-511633ad82b3"
      },
      "outputs": [
        {
          "output_type": "stream",
          "name": "stdout",
          "text": [
            "Ipopt 3.12.13: \n",
            "\n",
            "******************************************************************************\n",
            "This program contains Ipopt, a library for large-scale nonlinear optimization.\n",
            " Ipopt is released as open source code under the Eclipse Public License (EPL).\n",
            "         For more information visit http://projects.coin-or.org/Ipopt\n",
            "******************************************************************************\n",
            "\n",
            "This is Ipopt version 3.12.13, running with linear solver mumps.\n",
            "NOTE: Other linear solvers might be more efficient (see Ipopt documentation).\n",
            "\n",
            "Number of nonzeros in equality constraint Jacobian...:        7\n",
            "Number of nonzeros in inequality constraint Jacobian.:        5\n",
            "Number of nonzeros in Lagrangian Hessian.............:        3\n",
            "\n",
            "Total number of variables............................:        5\n",
            "                     variables with only lower bounds:        3\n",
            "                variables with lower and upper bounds:        2\n",
            "                     variables with only upper bounds:        0\n",
            "Total number of equality constraints.................:        3\n",
            "Total number of inequality constraints...............:        2\n",
            "        inequality constraints with only lower bounds:        1\n",
            "   inequality constraints with lower and upper bounds:        0\n",
            "        inequality constraints with only upper bounds:        1\n",
            "\n",
            "iter    objective    inf_pr   inf_du lg(mu)  ||d||  lg(rg) alpha_du alpha_pr  ls\n",
            "   0 -2.0999979e-01 4.80e+03 1.68e+00  -1.0 0.00e+00    -  0.00e+00 0.00e+00   0\n",
            "   1 -1.5068986e+04 9.09e-13 1.26e+05  -1.0 1.37e+03    -  1.08e-05 1.00e+00f  1\n",
            "   2 -1.5401654e+04 0.00e+00 4.25e+04  -1.0 1.11e+02   2.0 6.57e-01 1.00e+00f  1\n",
            "   3 -1.5551016e+04 9.09e-13 1.15e+04  -1.0 4.99e+01   1.5 9.84e-01 1.00e+00f  1\n",
            "   4 -1.5602002e+04 9.09e-13 2.22e+03  -1.0 1.70e+01   1.0 1.00e+00 1.00e+00f  1\n",
            "   5 -1.5611246e+04 0.00e+00 1.06e+02  -1.0 2.56e+00   0.6 1.00e+00 1.00e+00h  1\n",
            "   6 -1.5616306e+04 0.00e+00 2.01e+00  -1.0 1.62e+00   0.1 1.00e+00 1.00e+00f  1\n",
            "   7 -1.7601149e+04 1.36e+03 1.93e+00  -1.0 1.70e+04    -  4.97e-03 3.89e-02f  1\n",
            "   8 -1.7620596e+04 1.36e+03 1.93e+00  -1.0 2.53e+04    -  2.25e-02 2.67e-04f  1\n",
            "   9 -1.7620526e+04 1.34e+03 4.92e+00  -1.0 5.25e+02    -  1.00e+00 9.75e-03h  1\n",
            "iter    objective    inf_pr   inf_du lg(mu)  ||d||  lg(rg) alpha_du alpha_pr  ls\n",
            "  10 -1.7601097e+04 0.00e+00 4.69e-01  -1.0 1.29e+01    -  1.00e+00 1.00e+00h  1\n",
            "  11 -1.7603063e+04 7.11e-15 9.83e-03  -1.0 5.16e+00    -  1.00e+00 1.00e+00h  1\n",
            "  12 -1.7603064e+04 0.00e+00 1.00e-06  -1.0 1.62e+00    -  1.00e+00 1.00e+00h  1\n",
            "  13 -1.7603259e+04 3.55e-15 2.90e-06  -2.5 8.31e+00    -  1.00e+00 1.00e+00f  1\n",
            "  14 -1.7603264e+04 0.00e+00 1.50e-09  -3.8 2.12e-01    -  1.00e+00 1.00e+00h  1\n",
            "  15 -1.7603265e+04 7.11e-15 1.84e-11  -5.7 1.26e-02    -  1.00e+00 1.00e+00h  1\n",
            "  16 -1.7603265e+04 0.00e+00 2.51e-14  -8.6 1.57e-04    -  1.00e+00 1.00e+00h  1\n",
            "\n",
            "Number of Iterations....: 16\n",
            "\n",
            "                                   (scaled)                 (unscaled)\n",
            "Objective...............:  -1.7603264635190098e+04   -1.7603264635190098e+04\n",
            "Dual infeasibility......:   2.5059815333960955e-14    2.5059815333960955e-14\n",
            "Constraint violation....:   0.0000000000000000e+00    0.0000000000000000e+00\n",
            "Complementarity.........:   2.5059819139477092e-09    2.5059819139477092e-09\n",
            "Overall NLP error.......:   2.5059819139477092e-09    2.5059819139477092e-09\n",
            "\n",
            "\n",
            "Number of objective function evaluations             = 17\n",
            "Number of objective gradient evaluations             = 17\n",
            "Number of equality constraint evaluations            = 17\n",
            "Number of inequality constraint evaluations          = 17\n",
            "Number of equality constraint Jacobian evaluations   = 17\n",
            "Number of inequality constraint Jacobian evaluations = 17\n",
            "Number of Lagrangian Hessian evaluations             = 16\n",
            "Total CPU secs in IPOPT (w/o function evaluations)   =      0.020\n",
            "Total CPU secs in NLP function evaluations           =      0.001\n",
            "\n",
            "EXIT: Optimal Solution Found.\n",
            "\b\b\b\b\b\b\b\b\b\b\b\b\b\b\b \n",
            "Ipopt 3.12.13: Optimal Solution Found\n",
            "\n",
            "suffix ipopt_zU_out OUT;\n",
            "suffix ipopt_zL_out OUT;\n",
            "Solver: ipopt, solver status: solved\n",
            "x = ({'logic': 617.7548258979735, 'memory': 1132.245191601602})\n",
            "optimal value = 17603.26\n"
          ]
        }
      ],
      "source": [
        "radius = 0.05\n",
        "ampl = BIMWithBallUncertainty(radius, SOLVER_NLO)\n",
        "\n",
        "x = ampl.get_variable(\"x\").to_dict()\n",
        "print(f\"Solver: {SOLVER_NLO}, solver status:\", ampl.solve_result)\n",
        "print(f\"x = ({x})\")\n",
        "print(f'optimal value = {ampl.obj[\"Profit\"].value():.2f}')"
      ]
    },
    {
      "cell_type": "markdown",
      "metadata": {
        "id": "CGAcVL5yK3iK"
      },
      "source": [
        "The solvers `bonmin`, `cplex`, `gurobi` and `xpress` are capable of solving the mixed integer version of the same model:"
      ]
    },
    {
      "cell_type": "code",
      "execution_count": 24,
      "metadata": {
        "colab": {
          "base_uri": "https://localhost:8080/"
        },
        "id": "WGJvS_K_K3iK",
        "outputId": "14f36cda-b6ac-4198-e6d9-6132e60ff713"
      },
      "outputs": [
        {
          "output_type": "stream",
          "name": "stdout",
          "text": [
            "Bonmin 1.8.9 using Cbc 2.10.8 and Ipopt 3.12.13\n",
            "bonmin: \n",
            "\n",
            "******************************************************************************\n",
            "This program contains Ipopt, a library for large-scale nonlinear optimization.\n",
            " Ipopt is released as open source code under the Eclipse Public License (EPL).\n",
            "         For more information visit http://projects.coin-or.org/Ipopt\n",
            "******************************************************************************\n",
            "\n",
            "NLP0012I \n",
            "              Num      Status      Obj             It       time                 Location\n",
            "NLP0014I             1         OPT -17603.265       16 0.020295\n",
            "NLP0014I             2         OPT -17602.552        7 0.010097\n",
            "NLP0014I             3         OPT -17601       10 0.014116\n",
            "NLP0014I             4         OPT -17601        7 0.008734\n",
            "NLP0014I             5         OPT -17601.863        7 0.010875\n",
            "Cbc0010I After 0 nodes, 1 on tree, 1e+50 best solution, best possible -1.7976931e+308 (0.05 seconds)\n",
            "NLP0014I             6         OPT -17601.863        7 0.009708\n",
            "NLP0014I             7         OPT -17601        7 0.011319\n",
            "NLP0014I             8      INFEAS 0.4853767       14 0.033833\n",
            "NLP0014I             9         OPT -17599.648        7 0.009968\n",
            "NLP0014I            10         OPT -17595        9 0.012186\n",
            "NLP0012I \n",
            "              Num      Status      Obj             It       time                 Location\n",
            "NLP0014I             1         OPT -17595        1 0.001751\n",
            "Cbc0004I Integer solution of -17595 found after 44 iterations and 5 nodes (0.13 seconds)\n",
            "NLP0014I            11         OPT -17601       11 0.016007\n",
            "NLP0014I             2         OPT -17601        1 0.001619\n",
            "Cbc0004I Integer solution of -17601 found after 55 iterations and 6 nodes (0.15 seconds)\n",
            "Cbc0001I Search completed - best objective -17601, took 55 iterations and 6 nodes (0.15 seconds)\n",
            "Cbc0032I Strong branching done 2 times (31 iterations), fathomed 0 nodes and fixed 0 variables\n",
            "Cbc0035I Maximum depth 2, 0 variables fixed on reduced cost\n",
            "\b\b\b\b\b\b\b\b\n",
            " \t\"Finished\"\n",
            "\n",
            "bonmin: Optimal\n",
            "Solver: bonmin, solver status: solved\n",
            "x = ({'logic': 617, 'memory': 1133})\n",
            "optimal value = 17601.00\n"
          ]
        }
      ],
      "source": [
        "ampl = BIMWithBallUncertainty(radius, SOLVER_MINLO, True)\n",
        "\n",
        "x = ampl.get_variable(\"x\").to_dict()\n",
        "print(f\"Solver: {SOLVER_MINLO}, solver status:\", ampl.solve_result)\n",
        "print(f\"x = ({x})\")\n",
        "print(f'optimal value = {ampl.obj[\"Profit\"].value():.2f}')"
      ]
    }
  ],
  "metadata": {
    "kernelspec": {
      "display_name": "Python 3 (ipykernel)",
      "language": "python",
      "name": "python3"
    },
    "language_info": {
      "codemirror_mode": {
        "name": "ipython",
        "version": 3
      },
      "file_extension": ".py",
      "mimetype": "text/x-python",
      "name": "python",
      "nbconvert_exporter": "python",
      "pygments_lexer": "ipython3",
      "version": "3.10.6"
    },
    "colab": {
      "provenance": []
    }
  },
  "nbformat": 4,
  "nbformat_minor": 0
}